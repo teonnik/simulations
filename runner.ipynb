{
 "cells": [
  {
   "cell_type": "code",
   "execution_count": 61,
   "metadata": {},
   "outputs": [
    {
     "name": "stdout",
     "output_type": "stream",
     "text": [
      "The autoreload extension is already loaded. To reload it, use:\n",
      "  %reload_ext autoreload\n"
     ]
    }
   ],
   "source": [
    "%load_ext autoreload\n",
    "%autoreload 2\n",
    "%matplotlib inline\n",
    "%config InlineBackend.figure_format = 'svg'"
   ]
  },
  {
   "cell_type": "markdown",
   "metadata": {},
   "source": [
    "# Modules"
   ]
  },
  {
   "cell_type": "code",
   "execution_count": 94,
   "metadata": {},
   "outputs": [
    {
     "name": "stdout",
     "output_type": "stream",
     "text": [
      "\n",
      "Currently Loaded Modules:\n",
      "  1) gcc/6.3.0      3) intel-impi/2017.1.132   5) slurm/17.02.2 (S)\n",
      "  2) cmake/3.10.0   4) intel-mkl/2018.1.163\n",
      "\n",
      "  Where:\n",
      "   S:  Module is Sticky, requires --force to unload or purge\n",
      "\n",
      "\n"
     ]
    }
   ],
   "source": [
    "from subprocess import PIPE, run, STDOUT\n",
    "#from os import environ\n",
    "\n",
    "#environ['TOMA'] = 'BBBBB'\n",
    "print(run('module list', stdout=PIPE, stderr=STDOUT, shell=True).stdout.decode('utf-8'))"
   ]
  },
  {
   "cell_type": "markdown",
   "metadata": {},
   "source": [
    "# Parameters"
   ]
  },
  {
   "cell_type": "code",
   "execution_count": 11,
   "metadata": {},
   "outputs": [
    {
     "data": {
      "text/plain": [
       "{'Device': 'julia',\n",
       " 'Domain partitions': [[0, 256], [0, 256], [0, 256]],\n",
       " 'Exact solution': 'white-noise sine',\n",
       " 'Executable name': 'laplace3d_jacobi',\n",
       " 'Executable path': '~/asynchronator/build/example',\n",
       " 'Info': 'SIAM',\n",
       " 'Initial guess': 'zero',\n",
       " 'Iterant': 'jacobi',\n",
       " 'Matrix': 'laplace3d',\n",
       " 'Max iterations': 1000000,\n",
       " 'Nodes': 1,\n",
       " 'Processes': 1,\n",
       " 'Processes grid': [1, 1, 1],\n",
       " 'Processes per node': 1,\n",
       " 'Steps': 1,\n",
       " 'Threads per process': 256,\n",
       " 'Timeout [min]': 2,\n",
       " 'Timestamp': '2018-04-26 16:09:19',\n",
       " 'Tolerance': 0.0001}"
      ]
     },
     "execution_count": 11,
     "metadata": {},
     "output_type": "execute_result"
    }
   ],
   "source": [
    "from operator import mul\n",
    "from functools import reduce\n",
    "from datetime import datetime\n",
    "from numpy import linspace\n",
    "\n",
    "# TODO\n",
    "domain = [256, 256, 256]                    \n",
    "procs = [1, 1, 1]                          # 2, 4, 6, 8\n",
    "execName = 'laplace3d_jacobi'               \n",
    "timestamp = datetime.now()\n",
    "\n",
    "params = {\n",
    "    \n",
    "    # Linear system\n",
    "    'Matrix': execName.split('_')[0],\n",
    "    'Domain partitions': [ \n",
    "        linspace(0, dLen, pLen + 1, endpoint=True, dtype=int).tolist() \n",
    "        for (dLen, pLen) in zip(domain, procs) ],\n",
    "    'Initial guess': 'zero',\n",
    "    'Exact solution': 'white-noise sine',\n",
    "\n",
    "    # Solver\n",
    "    'Iterant': execName.split('_')[1],\n",
    "    'Steps': 1,\n",
    "    'Max iterations': 1000000,\n",
    "    'Tolerance': 1e-4,\n",
    "    'Timeout [min]': 2,\n",
    "    #'Truncation': 10,\n",
    "    \n",
    "    # Preconditioner\n",
    "    #'Preconditioner Iterant': execName.split('_')[2],\n",
    "    #'Preconditioner Steps': 1,\n",
    "    #'Preconditioner Max iterations': 4,\n",
    "    #'Preconditioner Tolerance': 0.3,\n",
    "    #'Preconditioner Timeout [min]': 0.001,\n",
    "    \n",
    "    # Block solver\n",
    "    #'Block Iterant': execName.split('_')[3],\n",
    "    #'Block Steps': 1,\n",
    "    #'Block Max iterations': 5,\n",
    "    #'Block Tolerance': 0.1,\n",
    "    #'Block Timeout [min]': 1,\n",
    "    \n",
    "    # Info\n",
    "    'Info': 'SIAM',\n",
    "    \n",
    "    # Executable\n",
    "    'Executable path': '~/asynchronator/build/example',\n",
    "    'Executable name': execName,\n",
    "    \n",
    "    # Device\n",
    "    'Device': 'julia',\n",
    "    'Processes per node': 1,\n",
    "    'Threads per process': 256,\n",
    "    'Timestamp': timestamp.strftime(\"%Y-%m-%d %H:%M:%S\"), \n",
    "    'Processes grid': procs,\n",
    "    'Nodes': reduce(mul, procs),\n",
    "    'Processes': reduce(mul, procs),\n",
    "}\n",
    "\n",
    "params"
   ]
  },
  {
   "cell_type": "markdown",
   "metadata": {},
   "source": [
    "# Command"
   ]
  },
  {
   "cell_type": "code",
   "execution_count": 105,
   "metadata": {},
   "outputs": [
    {
     "data": {
      "text/plain": [
       "'sbatch --job-name=example.laplace3d_ajacobi --nodes=1 --ntasks-per-node=1 --cpus-per-task=256 --time=00:02:00 --mail-user=teodor.nikolov22@gmail.com --mail-type=FAIL --error=err.txt --output=out.txt --wrap=\"srun ~/asynchronator/build/example/example.laplace3d_ajacobi\"'"
      ]
     },
     "execution_count": 105,
     "metadata": {},
     "output_type": "execute_result"
    }
   ],
   "source": [
    "job = ('sbatch '\n",
    "       '--job-name={executable} '\n",
    "       '--nodes={nodes} '\n",
    "       '--ntasks-per-node={procs} '\n",
    "       '--cpus-per-task={threads} '\n",
    "       '--time={timeout} '\n",
    "       '--mail-user=teodor.nikolov22@gmail.com '\n",
    "       '--mail-type=FAIL '\n",
    "       '--error=err.txt '\n",
    "       '--output=out.txt '\n",
    "       '--wrap=\\\"srun {execDir}/{executable}\\\"').format(\n",
    "    executable=params['Executable name'],\n",
    "    execDir=params['Executable path'],\n",
    "    procs=params['Processes per node'],\n",
    "    nodes=params['Nodes'],\n",
    "    threads=params['Threads per process'],\n",
    "    timeout='{:0>2d}:{:0>2d}:00'.format(params['Timeout [min]'] // 60, \n",
    "                                        params['Timeout [min]'] % 60)\n",
    ")\n",
    "job"
   ]
  },
  {
   "cell_type": "markdown",
   "metadata": {},
   "source": [
    "# Submit"
   ]
  },
  {
   "cell_type": "code",
   "execution_count": 106,
   "metadata": {},
   "outputs": [
    {
     "data": {
      "text/plain": [
       "CompletedProcess(args='sbatch --job-name=example.laplace3d_ajacobi --nodes=1 --ntasks-per-node=1 --cpus-per-task=256 --time=00:02:00 --mail-user=teodor.nikolov22@gmail.com --mail-type=FAIL --error=err.txt --output=out.txt --wrap=\"srun ~/asynchronator/build/example/example.laplace3d_ajacobi\"', returncode=0)"
      ]
     },
     "execution_count": 106,
     "metadata": {},
     "output_type": "execute_result"
    }
   ],
   "source": [
    "from subprocess import run\n",
    "from pathlib import Path\n",
    "from json import dump\n",
    "from datetime import datetime\n",
    "\n",
    "# Create a run directory\n",
    "runDir = Path('{}_{}'.format(params['Executable name'],\n",
    "                             timestamp.strftime(\"%Y-%m-%d_%H-%M-%S\")))\n",
    "runDir.mkdir(exist_ok=False)\n",
    "\n",
    "# Write setup file\n",
    "with (runDir / 'setup.json').open('w') as setupF: \n",
    "    dump(params, setupF)\n",
    "\n",
    "# Run the job\n",
    "run(job, cwd=runDir, shell=True)"
   ]
  }
 ],
 "metadata": {
  "kernelspec": {
   "display_name": "Python 3",
   "language": "python",
   "name": "python3"
  },
  "language_info": {
   "codemirror_mode": {
    "name": "ipython",
    "version": 3
   },
   "file_extension": ".py",
   "mimetype": "text/x-python",
   "name": "python",
   "nbconvert_exporter": "python",
   "pygments_lexer": "ipython3",
   "version": "3.6.3"
  }
 },
 "nbformat": 4,
 "nbformat_minor": 2
}
