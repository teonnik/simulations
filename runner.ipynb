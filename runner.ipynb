{
 "cells": [
  {
   "cell_type": "code",
   "execution_count": 81,
   "metadata": {},
   "outputs": [
    {
     "name": "stdout",
     "output_type": "stream",
     "text": [
      "The autoreload extension is already loaded. To reload it, use:\n",
      "  %reload_ext autoreload\n"
     ]
    }
   ],
   "source": [
    "%load_ext autoreload\n",
    "%autoreload 2\n",
    "%matplotlib inline\n",
    "%config InlineBackend.figure_format = 'svg'"
   ]
  },
  {
   "cell_type": "markdown",
   "metadata": {},
   "source": [
    "# Modules"
   ]
  },
  {
   "cell_type": "code",
   "execution_count": 82,
   "metadata": {},
   "outputs": [
    {
     "name": "stdout",
     "output_type": "stream",
     "text": [
      "\n",
      "Currently Loaded Modules:\n",
      "  1) gcc/6.3.0      3) intel-impi/2017.1.132   5) slurm/17.02.2 (S)\n",
      "  2) cmake/3.10.0   4) intel-mkl/2018.1.163\n",
      "\n",
      "  Where:\n",
      "   S:  Module is Sticky, requires --force to unload or purge\n",
      "\n",
      "\n"
     ]
    }
   ],
   "source": [
    "from subprocess import PIPE, run, STDOUT\n",
    "#from os import environ\n",
    "\n",
    "#environ['TOMA'] = 'BBBBB'\n",
    "print(run('module list', stdout=PIPE, stderr=STDOUT, shell=True).stdout.decode('utf-8'))"
   ]
  },
  {
   "cell_type": "markdown",
   "metadata": {},
   "source": [
    "# Parameters"
   ]
  },
  {
   "cell_type": "code",
   "execution_count": 84,
   "metadata": {},
   "outputs": [
    {
     "data": {
      "text/plain": [
       "{'Device': 'julia',\n",
       " 'Domain partitions': [[0, 50, 100], [0, 50, 100], [0, 50, 100]],\n",
       " 'Exact solution': 'white-noise sine',\n",
       " 'Executable name': 'example.laplace3d_jacobi',\n",
       " 'Executable path': '/gpfs/homeb/zam/tnikolov/asynchronator/build/example',\n",
       " 'Initial guess': 'zero',\n",
       " 'Iterant': 'jacobi',\n",
       " 'Matrix': 'laplace3d',\n",
       " 'Max iterations': 1000000,\n",
       " 'Nodes': 8,\n",
       " 'Processes': 8,\n",
       " 'Processes grid': [2, 2, 2],\n",
       " 'Processes per node': 1,\n",
       " 'Steps': 1,\n",
       " 'Threads per process': 256,\n",
       " 'Timeout [min]': 2,\n",
       " 'Timestamp': '2018-04-24 13:15',\n",
       " 'Tolerance': 0.0001}"
      ]
     },
     "execution_count": 84,
     "metadata": {},
     "output_type": "execute_result"
    }
   ],
   "source": [
    "from operator import mul\n",
    "from functools import reduce\n",
    "from datetime import datetime\n",
    "\n",
    "timestamp = datetime.now()\n",
    "\n",
    "params = {\n",
    "    # Executable\n",
    "   'Executable path': '/gpfs/homeb/zam/tnikolov/asynchronator/build/example',\n",
    "   'Executable name': 'example.laplace3d_jacobi',\n",
    "    \n",
    "    # Linear system\n",
    "   'Matrix': 'laplace3d',\n",
    "   'Domain partitions': [[0, 50, 100], [0, 50, 100], [0, 50, 100]],\n",
    "   'Initial guess': 'zero',\n",
    "   'Exact solution': 'white-noise sine',\n",
    "\n",
    "    # Solver\n",
    "   'Iterant': 'jacobi',\n",
    "   'Steps': 1,\n",
    "   'Max iterations': 1000000,\n",
    "   \"Tolerance\": 1e-4,\n",
    "   \"Timeout [min]\": 2    \n",
    "}\n",
    "\n",
    "# Device\n",
    "params['Device'] = 'julia'\n",
    "params['Processes per node'] = 1\n",
    "params['Threads per process'] = 256\n",
    "params['Timestamp'] = timestamp.strftime(\"%Y-%m-%d %H:%M:%S\")\n",
    "params['Processes grid'] = [len(x) - 1 for x in params['Domain partitions']]\n",
    "params['Nodes'] = reduce(mul, params['Processes grid'], 1)\n",
    "params['Processes'] = params['Processes per node'] * params['Nodes']\n",
    "\n",
    "params"
   ]
  },
  {
   "cell_type": "markdown",
   "metadata": {},
   "source": [
    "# Command"
   ]
  },
  {
   "cell_type": "code",
   "execution_count": 86,
   "metadata": {},
   "outputs": [
    {
     "data": {
      "text/plain": [
       "'sbatch --job-name=example.laplace3d_jacobi --nodes=8 --ntasks-per-node=1 --cpus-per-task=256 --time=00:02:00 --mail-user=teodor.nikolov22@gmail.com --mail-type=FAIL --error=err.txt --output=out.txt --wrap=\"srun /gpfs/homeb/zam/tnikolov/asynchronator/build/example/example.laplace3d_jacobi\"'"
      ]
     },
     "execution_count": 86,
     "metadata": {},
     "output_type": "execute_result"
    }
   ],
   "source": [
    "job = ('sbatch '\n",
    "       '--job-name={executable} '\n",
    "       '--nodes={nodes} '\n",
    "       '--ntasks-per-node={procs} '\n",
    "       '--cpus-per-task={threads} '\n",
    "       '--time={timeout} '\n",
    "       '--mail-user=teodor.nikolov22@gmail.com '\n",
    "       '--mail-type=FAIL '\n",
    "       '--error=err.txt '\n",
    "       '--output=out.txt '\n",
    "       '--wrap=\\\"srun {execDir}/{executable}\\\"').format(\n",
    "    executable=params['Executable name'],\n",
    "    execDir=params['Executable path'],\n",
    "    procs=params['Processes per node'],\n",
    "    nodes=params['Nodes'],\n",
    "    threads=params['Threads per process'],\n",
    "    timeout='{:0>2d}:{:0>2d}:00'.format(params['Timeout [min]'] // 60, \n",
    "                                        params['Timeout [min]'] % 60)\n",
    ")\n",
    "job"
   ]
  },
  {
   "cell_type": "markdown",
   "metadata": {},
   "source": [
    "# Submit"
   ]
  },
  {
   "cell_type": "code",
   "execution_count": 87,
   "metadata": {},
   "outputs": [
    {
     "data": {
      "text/plain": [
       "CompletedProcess(args='sbatch --job-name=example.laplace3d_jacobi --nodes=8 --ntasks-per-node=1 --cpus-per-task=256 --time=00:02:00 --mail-user=teodor.nikolov22@gmail.com --mail-type=FAIL --error=err.txt --output=out.txt --wrap=\"srun /gpfs/homeb/zam/tnikolov/asynchronator/build/example/example.laplace3d_jacobi\"', returncode=0)"
      ]
     },
     "execution_count": 87,
     "metadata": {},
     "output_type": "execute_result"
    }
   ],
   "source": [
    "from subprocess import run\n",
    "from pathlib import Path\n",
    "from json import dump\n",
    "from datetime import datetime\n",
    "\n",
    "# Create a run directory\n",
    "runDir = Path(timestamp.strftime(\"%Y-%m-%d_%H-%M-%S\"))\n",
    "runDir.mkdir(exist_ok=False)\n",
    "\n",
    "# Write setup file\n",
    "with (runDir / 'setup.json').open('w') as setupF: \n",
    "    dump(params, setupF)\n",
    "\n",
    "# Run the job\n",
    "run(job, cwd=runDir, shell=True)"
   ]
  },
  {
   "cell_type": "markdown",
   "metadata": {},
   "source": [
    "# Update records"
   ]
  },
  {
   "cell_type": "code",
   "execution_count": 232,
   "metadata": {},
   "outputs": [
    {
     "data": {
      "text/html": [
       "<div>\n",
       "<style>\n",
       "    .dataframe thead tr:only-child th {\n",
       "        text-align: right;\n",
       "    }\n",
       "\n",
       "    .dataframe thead th {\n",
       "        text-align: left;\n",
       "    }\n",
       "\n",
       "    .dataframe tbody tr th {\n",
       "        vertical-align: top;\n",
       "    }\n",
       "</style>\n",
       "<table border=\"1\" class=\"dataframe\">\n",
       "  <thead>\n",
       "    <tr style=\"text-align: right;\">\n",
       "      <th></th>\n",
       "      <th>Device</th>\n",
       "      <th>Domain partitions</th>\n",
       "      <th>Exact solution</th>\n",
       "      <th>Executable name</th>\n",
       "      <th>Executable path</th>\n",
       "      <th>Initial guess</th>\n",
       "      <th>Iterant</th>\n",
       "      <th>Matrix</th>\n",
       "      <th>Max iterations</th>\n",
       "      <th>Nodes</th>\n",
       "      <th>...</th>\n",
       "      <th>Processes grid</th>\n",
       "      <th>Processes per node</th>\n",
       "      <th>Rank</th>\n",
       "      <th>Relative error</th>\n",
       "      <th>Relative residual</th>\n",
       "      <th>Steps</th>\n",
       "      <th>Threads per process</th>\n",
       "      <th>Timeout [min]</th>\n",
       "      <th>Timestamp</th>\n",
       "      <th>Tolerance</th>\n",
       "    </tr>\n",
       "  </thead>\n",
       "  <tbody>\n",
       "    <tr>\n",
       "      <th>0</th>\n",
       "      <td>julia</td>\n",
       "      <td>[[0, 50, 100], [0, 50, 100], [0, 50, 100]]</td>\n",
       "      <td>white-noise sine</td>\n",
       "      <td>example.laplace3d_jacobi</td>\n",
       "      <td>/gpfs/homeb/zam/tnikolov/asynchronator/build/e...</td>\n",
       "      <td>zero</td>\n",
       "      <td>jacobi</td>\n",
       "      <td>laplace3d</td>\n",
       "      <td>1000000</td>\n",
       "      <td>8</td>\n",
       "      <td>...</td>\n",
       "      <td>[2, 2, 2]</td>\n",
       "      <td>1</td>\n",
       "      <td>0</td>\n",
       "      <td>0.000337</td>\n",
       "      <td>0.000047</td>\n",
       "      <td>1</td>\n",
       "      <td>256</td>\n",
       "      <td>2</td>\n",
       "      <td>2018-04-24 13:15</td>\n",
       "      <td>0.0001</td>\n",
       "    </tr>\n",
       "    <tr>\n",
       "      <th>1</th>\n",
       "      <td>julia</td>\n",
       "      <td>[[0, 100], [0, 100], [0, 100]]</td>\n",
       "      <td>white-noise sine</td>\n",
       "      <td>example.laplace3d_jacobi</td>\n",
       "      <td>/gpfs/homeb/zam/tnikolov/asynchronator/build/e...</td>\n",
       "      <td>zero</td>\n",
       "      <td>jacobi</td>\n",
       "      <td>laplace3d</td>\n",
       "      <td>1000000</td>\n",
       "      <td>1</td>\n",
       "      <td>...</td>\n",
       "      <td>[1, 1, 1]</td>\n",
       "      <td>1</td>\n",
       "      <td>0</td>\n",
       "      <td>0.000100</td>\n",
       "      <td>0.000003</td>\n",
       "      <td>1</td>\n",
       "      <td>256</td>\n",
       "      <td>2</td>\n",
       "      <td>2018-04-24 12:08</td>\n",
       "      <td>0.0001</td>\n",
       "    </tr>\n",
       "  </tbody>\n",
       "</table>\n",
       "<p>2 rows × 21 columns</p>\n",
       "</div>"
      ],
      "text/plain": [
       "  Device                           Domain partitions    Exact solution  \\\n",
       "0  julia  [[0, 50, 100], [0, 50, 100], [0, 50, 100]]  white-noise sine   \n",
       "1  julia              [[0, 100], [0, 100], [0, 100]]  white-noise sine   \n",
       "\n",
       "            Executable name  \\\n",
       "0  example.laplace3d_jacobi   \n",
       "1  example.laplace3d_jacobi   \n",
       "\n",
       "                                     Executable path Initial guess Iterant  \\\n",
       "0  /gpfs/homeb/zam/tnikolov/asynchronator/build/e...          zero  jacobi   \n",
       "1  /gpfs/homeb/zam/tnikolov/asynchronator/build/e...          zero  jacobi   \n",
       "\n",
       "      Matrix  Max iterations  Nodes    ...     Processes grid  \\\n",
       "0  laplace3d         1000000      8    ...          [2, 2, 2]   \n",
       "1  laplace3d         1000000      1    ...          [1, 1, 1]   \n",
       "\n",
       "  Processes per node  Rank  Relative error  Relative residual  Steps  \\\n",
       "0                  1     0        0.000337           0.000047      1   \n",
       "1                  1     0        0.000100           0.000003      1   \n",
       "\n",
       "   Threads per process  Timeout [min]         Timestamp Tolerance  \n",
       "0                  256              2  2018-04-24 13:15    0.0001  \n",
       "1                  256              2  2018-04-24 12:08    0.0001  \n",
       "\n",
       "[2 rows x 21 columns]"
      ]
     },
     "execution_count": 232,
     "metadata": {},
     "output_type": "execute_result"
    }
   ],
   "source": [
    "import pandas as pd\n",
    "from pathlib import Path\n",
    "from json import load\n",
    "from os import stat\n",
    "\n",
    "# Check for errors\n",
    "if stat(runDir / 'err.txt').st_size != 0:\n",
    "    raise ValueError('The error file is not empty! Check err.txt!')\n",
    "if stat(runDir / 'out.txt').st_size != 0:\n",
    "    raise ValueError('Something was written to standard output! Check out.txt!')\n",
    "\n",
    "# Open records\n",
    "records = pd.read_csv('records.csv')\n",
    "\n",
    "with (runDir / '0.json').open('r') as recF: \n",
    "    data = load(recF)\n",
    "    del data['CV sample times [s]']\n",
    "    del data['CV samples']\n",
    "    data['Info'] = 'N/A' # TODO\n",
    "    \n",
    "    records = records.append(data, ignore_index=True)\n",
    "records.tail()"
   ]
  },
  {
   "cell_type": "markdown",
   "metadata": {},
   "source": [
    "# Save records"
   ]
  },
  {
   "cell_type": "code",
   "execution_count": 233,
   "metadata": {
    "collapsed": true
   },
   "outputs": [],
   "source": [
    "records.to_csv('records.csv', index=False)"
   ]
  },
  {
   "cell_type": "markdown",
   "metadata": {},
   "source": [
    "# Read iterations record"
   ]
  },
  {
   "cell_type": "code",
   "execution_count": 235,
   "metadata": {},
   "outputs": [
    {
     "data": {
      "text/html": [
       "<div>\n",
       "<style>\n",
       "    .dataframe thead tr:only-child th {\n",
       "        text-align: right;\n",
       "    }\n",
       "\n",
       "    .dataframe thead th {\n",
       "        text-align: left;\n",
       "    }\n",
       "\n",
       "    .dataframe tbody tr th {\n",
       "        vertical-align: top;\n",
       "    }\n",
       "</style>\n",
       "<table border=\"1\" class=\"dataframe\">\n",
       "  <thead>\n",
       "    <tr style=\"text-align: right;\">\n",
       "      <th></th>\n",
       "      <th>Relative error 0</th>\n",
       "    </tr>\n",
       "    <tr>\n",
       "      <th>Time [s]</th>\n",
       "      <th></th>\n",
       "    </tr>\n",
       "  </thead>\n",
       "  <tbody>\n",
       "    <tr>\n",
       "      <th>0.000000</th>\n",
       "      <td>1.000000</td>\n",
       "    </tr>\n",
       "    <tr>\n",
       "      <th>0.000004</th>\n",
       "      <td>1.000000</td>\n",
       "    </tr>\n",
       "    <tr>\n",
       "      <th>0.013112</th>\n",
       "      <td>0.810671</td>\n",
       "    </tr>\n",
       "    <tr>\n",
       "      <th>0.026407</th>\n",
       "      <td>0.782430</td>\n",
       "    </tr>\n",
       "    <tr>\n",
       "      <th>0.035821</th>\n",
       "      <td>0.771545</td>\n",
       "    </tr>\n",
       "  </tbody>\n",
       "</table>\n",
       "</div>"
      ],
      "text/plain": [
       "          Relative error 0\n",
       "Time [s]                  \n",
       "0.000000          1.000000\n",
       "0.000004          1.000000\n",
       "0.013112          0.810671\n",
       "0.026407          0.782430\n",
       "0.035821          0.771545"
      ]
     },
     "execution_count": 235,
     "metadata": {},
     "output_type": "execute_result"
    }
   ],
   "source": [
    "# Read files\n",
    "itersData = []\n",
    "for rank in [0]:#range(0, params['Processes']):    \n",
    "    with (runDir / '{}.json'.format(rank)).open('r') as recF: \n",
    "        data = load(recF)\n",
    "        dataDf = pd.DataFrame(data['CV samples'], \n",
    "                              index=data['CV sample times [s]'],\n",
    "                              columns =['Relative error {}'.format(rank)])\n",
    "        dataDf.index.name = 'Time [s]'\n",
    "        itersData.append(dataDf)\n",
    "\n",
    "itersDf = pd.concat(itersData, axis=1)\n",
    "itersDf.head()"
   ]
  },
  {
   "cell_type": "markdown",
   "metadata": {},
   "source": [
    "# Save iterations record"
   ]
  },
  {
   "cell_type": "code",
   "execution_count": 236,
   "metadata": {
    "collapsed": true
   },
   "outputs": [],
   "source": [
    "itersDf.to_csv('{}.csv'.format(runDir.name))"
   ]
  },
  {
   "cell_type": "markdown",
   "metadata": {},
   "source": [
    "# Clean run directory"
   ]
  },
  {
   "cell_type": "code",
   "execution_count": 237,
   "metadata": {},
   "outputs": [],
   "source": [
    "for f in runDir.glob('*'):\n",
    "    f.unlink()\n",
    "runDir.rmdir()"
   ]
  }
 ],
 "metadata": {
  "kernelspec": {
   "display_name": "Python 3",
   "language": "python",
   "name": "python3"
  },
  "language_info": {
   "codemirror_mode": {
    "name": "ipython",
    "version": 3
   },
   "file_extension": ".py",
   "mimetype": "text/x-python",
   "name": "python",
   "nbconvert_exporter": "python",
   "pygments_lexer": "ipython3",
   "version": "3.6.3"
  }
 },
 "nbformat": 4,
 "nbformat_minor": 2
}
