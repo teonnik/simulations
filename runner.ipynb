{
 "cells": [
  {
   "cell_type": "code",
   "execution_count": 11,
   "metadata": {},
   "outputs": [],
   "source": [
    "%load_ext autoreload\n",
    "%autoreload 2\n",
    "%matplotlib inline\n",
    "%config InlineBackend.figure_format = 'svg'"
   ]
  },
  {
   "cell_type": "markdown",
   "metadata": {},
   "source": [
    "# Modules"
   ]
  },
  {
   "cell_type": "code",
   "execution_count": 14,
   "metadata": {},
   "outputs": [
    {
     "name": "stdout",
     "output_type": "stream",
     "text": [
      "/bin/sh: module: command not found\n",
      "\n"
     ]
    }
   ],
   "source": [
    "from subprocess import PIPE, run, STDOUT\n",
    "#from os import environ\n",
    "\n",
    "#environ['TOMA'] = 'BBBBB'\n",
    "print(run('module list', stdout=PIPE, stderr=STDOUT, shell=True).stdout.decode('utf-8'))"
   ]
  },
  {
   "cell_type": "markdown",
   "metadata": {},
   "source": [
    "# Parameters"
   ]
  },
  {
   "cell_type": "code",
   "execution_count": 21,
   "metadata": {},
   "outputs": [
    {
     "data": {
      "text/plain": [
       "{'Device': 'julia',\n",
       " 'Domain partitions': [[0, 50], [0, 50], [0, 50]],\n",
       " 'Exact solution': 'white-noise sine',\n",
       " 'Executable name': 'laplace3d_jacobi',\n",
       " 'Executable path': '/home/teonnik/code/asynchronator/build/example',\n",
       " 'Initial guess': 'zero',\n",
       " 'Iterant': 'jacobi',\n",
       " 'Matrix': 'laplace3d',\n",
       " 'Max iterations': 100000,\n",
       " 'Nodes': 1,\n",
       " 'Processes grid': [1, 1, 1],\n",
       " 'Processes per node': 1,\n",
       " 'Steps': 10,\n",
       " 'Threads per process': 256,\n",
       " 'Timeout [min]': 1,\n",
       " 'Timestamp': '2018-04-16 14:22',\n",
       " 'Tolerance': 0.01}"
      ]
     },
     "execution_count": 21,
     "metadata": {},
     "output_type": "execute_result"
    }
   ],
   "source": [
    "from operator import mul\n",
    "from functools import reduce\n",
    "from datetime import datetime\n",
    "\n",
    "params = {\n",
    "    # Executable\n",
    "   'Executable path': '/home/teonnik/code/asynchronator/build/example',\n",
    "   'Executable name': 'laplace3d_jacobi',\n",
    "    \n",
    "    # Linear system\n",
    "   'Matrix': 'laplace3d',\n",
    "   'Domain partitions': [[0, 50],[0, 50],[0, 50]],\n",
    "   'Initial guess': 'zero',\n",
    "   'Exact solution': 'white-noise sine',\n",
    "\n",
    "    # Solver\n",
    "   'Iterant': 'jacobi',\n",
    "   'Steps': 10,\n",
    "   'Max iterations': 100000,\n",
    "   \"Tolerance\": 0.01,\n",
    "   \"Timeout [min]\": 1    \n",
    "}\n",
    "\n",
    "# Device\n",
    "params['Device'] = 'julia'\n",
    "params['Processes per node'] = 1\n",
    "params['Threads per process'] = 256\n",
    "params['Timestamp'] = datetime.now().strftime(\"%Y-%m-%d %H:%M\")\n",
    "params['Processes grid'] = [len(x) - 1 for x in params['Domain partitions']]\n",
    "params['Nodes'] = reduce(mul, params['Processes grid'], 1)\n",
    "\n",
    "params"
   ]
  },
  {
   "cell_type": "markdown",
   "metadata": {},
   "source": [
    "# Command"
   ]
  },
  {
   "cell_type": "code",
   "execution_count": 22,
   "metadata": {},
   "outputs": [
    {
     "data": {
      "text/plain": [
       "'sbatch --job-name=laplace3d_jacobi --nodes=1 --ntasks-per-node=1 --cpus-per-task=256 --time=00:01:00 --mail-user=teodor.nikolov22@gmail.com --mail-type=FAIL --error=err.txt --output=out.txt --wrap=\"srun /home/teonnik/code/asynchronator/build/example/laplace3d_jacobi\"'"
      ]
     },
     "execution_count": 22,
     "metadata": {},
     "output_type": "execute_result"
    }
   ],
   "source": [
    "job = ('sbatch '\n",
    "       '--job-name={executable} '\n",
    "       '--nodes={nodes} '\n",
    "       '--ntasks-per-node={procs} '\n",
    "       '--cpus-per-task={threads} '\n",
    "       '--time={timeout} '\n",
    "       '--mail-user=teodor.nikolov22@gmail.com '\n",
    "       '--mail-type=FAIL '\n",
    "       '--error=err.txt '\n",
    "       '--output=out.txt '\n",
    "       '--wrap=\\\"srun {execDir}/{executable}\\\"').format(\n",
    "    executable=params['Executable name'],\n",
    "    execDir=params['Executable path'],\n",
    "    procs=params['Processes per node'],\n",
    "    nodes=params['Nodes'],\n",
    "    threads=params['Threads per process'],\n",
    "    timeout='{:0>2d}:{:0>2d}:00'.format(params['Timeout [min]'] // 60, \n",
    "                                        params['Timeout [min]'] % 60)\n",
    ")\n",
    "job"
   ]
  },
  {
   "cell_type": "markdown",
   "metadata": {},
   "source": [
    "# Submit"
   ]
  },
  {
   "cell_type": "code",
   "execution_count": 23,
   "metadata": {},
   "outputs": [
    {
     "data": {
      "text/plain": [
       "CompletedProcess(args='sbatch --job-name=laplace3d_jacobi --nodes=1 --ntasks-per-node=1 --cpus-per-task=256 --time=00:01:00 --mail-user=teodor.nikolov22@gmail.com --mail-type=FAIL --error=err.txt --output=out.txt --wrap=\"srun /home/teonnik/code/asynchronator/build/example/laplace3d_jacobi\"', returncode=127)"
      ]
     },
     "execution_count": 23,
     "metadata": {},
     "output_type": "execute_result"
    }
   ],
   "source": [
    "from subprocess import run\n",
    "from pathlib import Path\n",
    "from json import dump\n",
    "from datetime import datetime\n",
    "\n",
    "# Create a run directory\n",
    "runDir = Path('{}_{}'.format(params['Executable name'], \n",
    "                             datetime.now().strftime(\"%Y-%m-%d_%H-%M-%S\")))\n",
    "runDir.mkdir(exist_ok=False)\n",
    "\n",
    "# Write setup file\n",
    "with (runDir / 'setup.json').open('w') as setupF: \n",
    "    dump(params, setupF)\n",
    "\n",
    "# Run the job\n",
    "run(job, cwd=runDir, shell=True)"
   ]
  },
  {
   "cell_type": "markdown",
   "metadata": {},
   "source": [
    "# Postprocess"
   ]
  },
  {
   "cell_type": "code",
   "execution_count": null,
   "metadata": {},
   "outputs": [],
   "source": [
    "import pandas as pd\n",
    "from pathlib import Path\n",
    "from json import load\n",
    "from os import stat\n",
    "\n",
    "# Check for errors\n",
    "if stat(runDir / 'err.txt').st_size != 0:\n",
    "    raise ValueError('The error file is not empty! Check err.txt!')\n",
    "if stat(runDir / 'out.txt').st_size != 0:\n",
    "    raise ValueError('Something was written to standard output! Check out.txt!')\n",
    "\n",
    "# Read files into dictionary\n",
    "data = []\n",
    "for recPath in simulationPath.glob('*.json'):\n",
    "    with recPath.open('r') as recF: \n",
    "        data.append(load(recF))\n",
    "\n",
    "# Preview table\n",
    "df = pd.DataFrame(data)\n",
    "df.head()"
   ]
  },
  {
   "cell_type": "markdown",
   "metadata": {},
   "source": [
    "# Save to .csv"
   ]
  },
  {
   "cell_type": "code",
   "execution_count": null,
   "metadata": {},
   "outputs": [],
   "source": [
    "df.to_csv('{}.csv'.format(runDir.name))"
   ]
  }
 ],
 "metadata": {
  "kernelspec": {
   "display_name": "Python 3",
   "language": "python",
   "name": "python3"
  },
  "language_info": {
   "codemirror_mode": {
    "name": "ipython",
    "version": 3
   },
   "file_extension": ".py",
   "mimetype": "text/x-python",
   "name": "python",
   "nbconvert_exporter": "python",
   "pygments_lexer": "ipython3",
   "version": "3.6.4"
  }
 },
 "nbformat": 4,
 "nbformat_minor": 2
}
