{
 "cells": [
  {
   "cell_type": "markdown",
   "metadata": {},
   "source": [
    "# Set run directory"
   ]
  },
  {
   "cell_type": "code",
   "execution_count": 50,
   "metadata": {},
   "outputs": [
    {
     "data": {
      "text/plain": [
       "True"
      ]
     },
     "execution_count": 50,
     "metadata": {},
     "output_type": "execute_result"
    }
   ],
   "source": [
    "from pathlib import Path\n",
    "runDir = Path('example.laplace3d_ajacobi_2018-04-26_11-03-36')\n",
    "runDir.exists()"
   ]
  },
  {
   "cell_type": "markdown",
   "metadata": {},
   "source": [
    "# Update records"
   ]
  },
  {
   "cell_type": "code",
   "execution_count": 51,
   "metadata": {},
   "outputs": [
    {
     "data": {
      "text/html": [
       "<div>\n",
       "<style>\n",
       "    .dataframe thead tr:only-child th {\n",
       "        text-align: right;\n",
       "    }\n",
       "\n",
       "    .dataframe thead th {\n",
       "        text-align: left;\n",
       "    }\n",
       "\n",
       "    .dataframe tbody tr th {\n",
       "        vertical-align: top;\n",
       "    }\n",
       "</style>\n",
       "<table border=\"1\" class=\"dataframe\">\n",
       "  <thead>\n",
       "    <tr style=\"text-align: right;\">\n",
       "      <th></th>\n",
       "      <th>Device</th>\n",
       "      <th>Domain partitions</th>\n",
       "      <th>Exact solution</th>\n",
       "      <th>Executable name</th>\n",
       "      <th>Executable path</th>\n",
       "      <th>Info</th>\n",
       "      <th>Initial guess</th>\n",
       "      <th>Iterant</th>\n",
       "      <th>Matrix</th>\n",
       "      <th>Nodes</th>\n",
       "      <th>Processes</th>\n",
       "      <th>Processes grid</th>\n",
       "      <th>Processes per node</th>\n",
       "      <th>Rank</th>\n",
       "      <th>Relative error</th>\n",
       "      <th>Relative residual</th>\n",
       "      <th>Threads per process</th>\n",
       "      <th>Timeout [min]</th>\n",
       "      <th>Timestamp</th>\n",
       "      <th>Tolerance</th>\n",
       "    </tr>\n",
       "  </thead>\n",
       "  <tbody>\n",
       "    <tr>\n",
       "      <th>0</th>\n",
       "      <td>julia</td>\n",
       "      <td>[[0, 256], [0, 256], [0, 256]]</td>\n",
       "      <td>white-noise sine</td>\n",
       "      <td>example.laplace3d_ajacobi</td>\n",
       "      <td>~/asynchronator/build/example</td>\n",
       "      <td>SIAM</td>\n",
       "      <td>zero</td>\n",
       "      <td>ajacobi</td>\n",
       "      <td>laplace3d</td>\n",
       "      <td>1.0</td>\n",
       "      <td>1.0</td>\n",
       "      <td>[1, 1, 1]</td>\n",
       "      <td>1.0</td>\n",
       "      <td>0.0</td>\n",
       "      <td>0.550488</td>\n",
       "      <td>0.002674</td>\n",
       "      <td>256.0</td>\n",
       "      <td>2.0</td>\n",
       "      <td>2018-04-26 11:03:24</td>\n",
       "      <td>0.0001</td>\n",
       "    </tr>\n",
       "    <tr>\n",
       "      <th>1</th>\n",
       "      <td>julia</td>\n",
       "      <td>[[0, 256], [0, 256], [0, 256]]</td>\n",
       "      <td>white-noise sine</td>\n",
       "      <td>example.laplace3d_ajacobi</td>\n",
       "      <td>~/asynchronator/build/example</td>\n",
       "      <td>SIAM</td>\n",
       "      <td>zero</td>\n",
       "      <td>ajacobi</td>\n",
       "      <td>laplace3d</td>\n",
       "      <td>1.0</td>\n",
       "      <td>1.0</td>\n",
       "      <td>[1, 1, 1]</td>\n",
       "      <td>1.0</td>\n",
       "      <td>0.0</td>\n",
       "      <td>0.550961</td>\n",
       "      <td>0.002141</td>\n",
       "      <td>256.0</td>\n",
       "      <td>2.0</td>\n",
       "      <td>2018-04-26 11:03:36</td>\n",
       "      <td>0.0001</td>\n",
       "    </tr>\n",
       "  </tbody>\n",
       "</table>\n",
       "</div>"
      ],
      "text/plain": [
       "  Device               Domain partitions    Exact solution  \\\n",
       "0  julia  [[0, 256], [0, 256], [0, 256]]  white-noise sine   \n",
       "1  julia  [[0, 256], [0, 256], [0, 256]]  white-noise sine   \n",
       "\n",
       "             Executable name                Executable path  Info  \\\n",
       "0  example.laplace3d_ajacobi  ~/asynchronator/build/example  SIAM   \n",
       "1  example.laplace3d_ajacobi  ~/asynchronator/build/example  SIAM   \n",
       "\n",
       "  Initial guess  Iterant     Matrix  Nodes  Processes Processes grid  \\\n",
       "0          zero  ajacobi  laplace3d    1.0        1.0      [1, 1, 1]   \n",
       "1          zero  ajacobi  laplace3d    1.0        1.0      [1, 1, 1]   \n",
       "\n",
       "   Processes per node  Rank  Relative error  Relative residual  \\\n",
       "0                 1.0   0.0        0.550488           0.002674   \n",
       "1                 1.0   0.0        0.550961           0.002141   \n",
       "\n",
       "   Threads per process  Timeout [min]            Timestamp  Tolerance  \n",
       "0                256.0            2.0  2018-04-26 11:03:24     0.0001  \n",
       "1                256.0            2.0  2018-04-26 11:03:36     0.0001  "
      ]
     },
     "execution_count": 51,
     "metadata": {},
     "output_type": "execute_result"
    }
   ],
   "source": [
    "import pandas as pd\n",
    "from pathlib import Path\n",
    "from json import load\n",
    "from os import stat\n",
    "\n",
    "# Check for errors\n",
    "if stat(runDir / 'err.txt').st_size != 0:\n",
    "    raise ValueError('The error file is not empty! Check err.txt!')\n",
    "if stat(runDir / 'out.txt').st_size != 0:\n",
    "    raise ValueError('Something was written to standard output! Check out.txt!')\n",
    "\n",
    "# Open records\n",
    "records = pd.DataFrame()\n",
    "if Path('records.csv').exists():\n",
    "    records = pd.read_csv('records.csv')\n",
    "\n",
    "with (runDir / '0.json').open('r') as recF: \n",
    "    data = load(recF)\n",
    "    del data['CV sample times [s]']\n",
    "    del data['CV samples']\n",
    "    \n",
    "    records = records.append(data, ignore_index=True)\n",
    "records.tail()"
   ]
  },
  {
   "cell_type": "markdown",
   "metadata": {},
   "source": [
    "# Save records"
   ]
  },
  {
   "cell_type": "code",
   "execution_count": 52,
   "metadata": {
    "collapsed": true
   },
   "outputs": [],
   "source": [
    "records.to_csv('records.csv', index=False)"
   ]
  },
  {
   "cell_type": "markdown",
   "metadata": {},
   "source": [
    "# Read iterations record"
   ]
  },
  {
   "cell_type": "code",
   "execution_count": 53,
   "metadata": {},
   "outputs": [
    {
     "data": {
      "text/html": [
       "<div>\n",
       "<style>\n",
       "    .dataframe thead tr:only-child th {\n",
       "        text-align: right;\n",
       "    }\n",
       "\n",
       "    .dataframe thead th {\n",
       "        text-align: left;\n",
       "    }\n",
       "\n",
       "    .dataframe tbody tr th {\n",
       "        vertical-align: top;\n",
       "    }\n",
       "</style>\n",
       "<table border=\"1\" class=\"dataframe\">\n",
       "  <thead>\n",
       "    <tr style=\"text-align: right;\">\n",
       "      <th></th>\n",
       "      <th>Rank 0</th>\n",
       "    </tr>\n",
       "    <tr>\n",
       "      <th>Time [s]</th>\n",
       "      <th></th>\n",
       "    </tr>\n",
       "  </thead>\n",
       "  <tbody>\n",
       "    <tr>\n",
       "      <th>0.000000</th>\n",
       "      <td>1.000000</td>\n",
       "    </tr>\n",
       "    <tr>\n",
       "      <th>0.006033</th>\n",
       "      <td>1.000000</td>\n",
       "    </tr>\n",
       "    <tr>\n",
       "      <th>0.086071</th>\n",
       "      <td>1.000000</td>\n",
       "    </tr>\n",
       "    <tr>\n",
       "      <th>0.175370</th>\n",
       "      <td>0.814507</td>\n",
       "    </tr>\n",
       "    <tr>\n",
       "      <th>0.259820</th>\n",
       "      <td>0.788891</td>\n",
       "    </tr>\n",
       "  </tbody>\n",
       "</table>\n",
       "</div>"
      ],
      "text/plain": [
       "            Rank 0\n",
       "Time [s]          \n",
       "0.000000  1.000000\n",
       "0.006033  1.000000\n",
       "0.086071  1.000000\n",
       "0.175370  0.814507\n",
       "0.259820  0.788891"
      ]
     },
     "execution_count": 53,
     "metadata": {},
     "output_type": "execute_result"
    }
   ],
   "source": [
    "# Read files\n",
    "itersData = []\n",
    "for runP in runDir.glob('*.json'):\n",
    "    if runP.name == 'setup.json': \n",
    "        continue\n",
    "    with runP.open('r') as recF: \n",
    "        data = load(recF)\n",
    "        dataDf = pd.DataFrame(data['CV samples'], \n",
    "                              index=data['CV sample times [s]'],\n",
    "                              columns =['Rank {}'.format(runP.name[:-5])])\n",
    "        dataDf.index.name = 'Time [s]'\n",
    "        itersData.append(dataDf)\n",
    "\n",
    "itersDf = pd.concat(itersData, axis=1)\n",
    "itersDf.head()"
   ]
  },
  {
   "cell_type": "markdown",
   "metadata": {},
   "source": [
    "# Save iterations record"
   ]
  },
  {
   "cell_type": "code",
   "execution_count": 54,
   "metadata": {
    "collapsed": true
   },
   "outputs": [],
   "source": [
    "itersDf.to_csv('{}.csv'.format(runDir.name))"
   ]
  },
  {
   "cell_type": "markdown",
   "metadata": {},
   "source": [
    "# Clean run directory"
   ]
  },
  {
   "cell_type": "code",
   "execution_count": 55,
   "metadata": {
    "collapsed": true
   },
   "outputs": [],
   "source": [
    "for f in runDir.glob('*'):\n",
    "    f.unlink()\n",
    "runDir.rmdir()"
   ]
  }
 ],
 "metadata": {
  "kernelspec": {
   "display_name": "Python 3",
   "language": "python",
   "name": "python3"
  },
  "language_info": {
   "codemirror_mode": {
    "name": "ipython",
    "version": 3
   },
   "file_extension": ".py",
   "mimetype": "text/x-python",
   "name": "python",
   "nbconvert_exporter": "python",
   "pygments_lexer": "ipython3",
   "version": "3.6.3"
  }
 },
 "nbformat": 4,
 "nbformat_minor": 2
}
