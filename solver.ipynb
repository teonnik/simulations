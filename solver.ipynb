{
 "cells": [
  {
   "cell_type": "code",
   "execution_count": 7,
   "metadata": {},
   "outputs": [
    {
     "name": "stdout",
     "output_type": "stream",
     "text": [
      "The autoreload extension is already loaded. To reload it, use:\n",
      "  %reload_ext autoreload\n"
     ]
    }
   ],
   "source": [
    "%load_ext autoreload\n",
    "%autoreload 2\n",
    "%matplotlib inline\n",
    "%config InlineBackend.figure_format = 'svg'\n",
    "\n",
    "import seaborn as sb\n",
    "import numpy as np\n",
    "import pandas as pd\n",
    "import matplotlib.pyplot as plt\n",
    "\n",
    "sb.set()"
   ]
  },
  {
   "cell_type": "code",
   "execution_count": 8,
   "metadata": {},
   "outputs": [
    {
     "data": {
      "text/html": [
       "<div>\n",
       "<style scoped>\n",
       "    .dataframe tbody tr th:only-of-type {\n",
       "        vertical-align: middle;\n",
       "    }\n",
       "\n",
       "    .dataframe tbody tr th {\n",
       "        vertical-align: top;\n",
       "    }\n",
       "\n",
       "    .dataframe thead th {\n",
       "        text-align: right;\n",
       "    }\n",
       "</style>\n",
       "<table border=\"1\" class=\"dataframe\">\n",
       "  <thead>\n",
       "    <tr style=\"text-align: right;\">\n",
       "      <th></th>\n",
       "      <th>CV sample times [s]</th>\n",
       "      <th>CV samples</th>\n",
       "      <th>Rank</th>\n",
       "      <th>Relative error</th>\n",
       "      <th>Relative residual</th>\n",
       "    </tr>\n",
       "  </thead>\n",
       "  <tbody>\n",
       "    <tr>\n",
       "      <th>0</th>\n",
       "      <td>[0.0, 1.379e-06, 0.086772214, 0.174338373, 0.2...</td>\n",
       "      <td>[1.0, 1.0, 1.0, 1.0, 1.0, 1.0, 1.0, 1.0, 1.0, ...</td>\n",
       "      <td>0</td>\n",
       "      <td>0.653491</td>\n",
       "      <td>0.007566</td>\n",
       "    </tr>\n",
       "    <tr>\n",
       "      <th>1</th>\n",
       "      <td>[0.0, 1.682e-06, 0.087737004, 0.175380695, 0.2...</td>\n",
       "      <td>[1.0, 1.0, 1.0, 1.0, 1.0, 1.0, 1.0, 1.0, 1.0, ...</td>\n",
       "      <td>1</td>\n",
       "      <td>0.653491</td>\n",
       "      <td>0.007566</td>\n",
       "    </tr>\n",
       "  </tbody>\n",
       "</table>\n",
       "</div>"
      ],
      "text/plain": [
       "                                 CV sample times [s]  \\\n",
       "0  [0.0, 1.379e-06, 0.086772214, 0.174338373, 0.2...   \n",
       "1  [0.0, 1.682e-06, 0.087737004, 0.175380695, 0.2...   \n",
       "\n",
       "                                          CV samples  Rank  Relative error  \\\n",
       "0  [1.0, 1.0, 1.0, 1.0, 1.0, 1.0, 1.0, 1.0, 1.0, ...     0        0.653491   \n",
       "1  [1.0, 1.0, 1.0, 1.0, 1.0, 1.0, 1.0, 1.0, 1.0, ...     1        0.653491   \n",
       "\n",
       "   Relative residual  \n",
       "0           0.007566  \n",
       "1           0.007566  "
      ]
     },
     "execution_count": 8,
     "metadata": {},
     "output_type": "execute_result"
    }
   ],
   "source": [
    "pd.read_pickle('laplace3d_jacobi.pkl')"
   ]
  },
  {
   "cell_type": "markdown",
   "metadata": {},
   "source": [
    "# Iterations per process"
   ]
  },
  {
   "cell_type": "code",
   "execution_count": null,
   "metadata": {},
   "outputs": [],
   "source": [
    "# data[dataFilter].pivot_table(columns=['Solver'], index='Nodes', values='Status')\n",
    "\n",
    "# fig.savefig('toma.png', dpi=300)\n",
    "\n",
    "#recordName = 'laplace_jacobi-23hh21mm31ss-31dd01mm18yy.json'  # same as the name of the notebook\n",
    "#data = pd.read_json(Path.cwd() / recordName, orient='records')\n",
    "\n",
    "#itersHist = data[['Rank', 'Iterations']]\n",
    "#itersHist.set_index('Rank', inplace=True)\n",
    "\n",
    "#fig, ax = plt.subplots(nrows=1, ncols=1, sharex=True)\n",
    "#itersHist.plot(ax=ax, kind='hist')\n",
    "#ax.set_ylabel('Number of processes')\n",
    "#ax.set_xlabel('Number of iterations')\n",
    "\n",
    "#fig.savefig('laplace3d-domain-imbalance-iters.png', dpi=300)\n"
   ]
  },
  {
   "cell_type": "markdown",
   "metadata": {},
   "source": [
    "# Convergence"
   ]
  },
  {
   "cell_type": "code",
   "execution_count": null,
   "metadata": {},
   "outputs": [],
   "source": [
    "#nodes = 216   # NOTE: SET TO DESIREC NODES\n",
    "#fig, ax = plt.subplots(nrows=1, ncols=1, sharex=True)\n",
    "#ax.set_ylabel('Relative residual')\n",
    "#ax.set_title('Laplace 3D')\n",
    "\n",
    "#for solver in solvers:\n",
    "#    normFilter = dataFilter & (data['Nodes'] == nodes) & (data['Solver'] == solver)\n",
    "#    normSamples = data[normFilter]['Samples'].apply(pd.Series).mean().rename(solver)\n",
    "#    normSampleTimes = data[normFilter]['Sample times [s]'].apply(pd.Series).mean().rename('Time [s]')\n",
    "#    normData = pd.concat([normSampleTimes, normSamples], axis = 1).set_index('Time [s]')\n",
    "    \n",
    "#    normData.iloc[::200, :].plot(ax=ax, style=['o--'])\n",
    "#    ax.set_yscale('log')\n",
    "\n",
    "\n",
    "# fig.savefig('toma.png', dpi=300)"
   ]
  },
  {
   "cell_type": "markdown",
   "metadata": {},
   "source": [
    "# Iteration rate"
   ]
  },
  {
   "cell_type": "code",
   "execution_count": null,
   "metadata": {},
   "outputs": [],
   "source": [
    "#itersData = data[dataFilter].pivot_table(columns=['Solver'], \n",
    "#                                         index='Nodes', \n",
    "#                                         values='Iterations',\n",
    "#                                         aggfunc=np.min\n",
    "#                                        )\n",
    "# itersRate = itersData / timesData\n",
    "\n",
    "# fig, ax = plt.subplots(nrows=1, ncols=1, sharex=True)\n",
    "# itersRate.plot(ax=ax, style=['o--', 'o--', 'o--'])\n",
    "# ax.set_ylabel('Rate of iterations [$s^{-1}$]')\n",
    "# ax.set_title('Laplace 3D \\n Weak scaling')\n",
    "\n",
    "# fig.savefig('laplace3d-iters-rate.png', dpi=300)\n",
    "\n",
    "# fig.savefig('toma.png', dpi=300)"
   ]
  }
 ],
 "metadata": {
  "kernelspec": {
   "display_name": "Python 3",
   "language": "python",
   "name": "python3"
  },
  "language_info": {
   "codemirror_mode": {
    "name": "ipython",
    "version": 3
   },
   "file_extension": ".py",
   "mimetype": "text/x-python",
   "name": "python",
   "nbconvert_exporter": "python",
   "pygments_lexer": "ipython3",
   "version": "3.6.4"
  }
 },
 "nbformat": 4,
 "nbformat_minor": 2
}
