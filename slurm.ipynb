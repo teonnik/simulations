{
 "cells": [
  {
   "cell_type": "code",
   "execution_count": 11,
   "metadata": {},
   "outputs": [],
   "source": [
    "%load_ext autoreload\n",
    "%autoreload 2\n",
    "%matplotlib inline\n",
    "%config InlineBackend.figure_format = 'svg'"
   ]
  },
  {
   "cell_type": "markdown",
   "metadata": {},
   "source": [
    "# Modules"
   ]
  },
  {
   "cell_type": "code",
   "execution_count": 12,
   "metadata": {},
   "outputs": [
    {
     "name": "stdout",
     "output_type": "stream",
     "text": [
      "/bin/sh: module: command not found\n",
      "\n"
     ]
    }
   ],
   "source": [
    "from subprocess import PIPE, run, STDOUT\n",
    "#from os import environ\n",
    "\n",
    "#environ['TOMA'] = 'BBBBB'\n",
    "print(run('module list', stdout=PIPE, stderr=STDOUT, shell=True).stdout.decode('utf-8'))"
   ]
  },
  {
   "cell_type": "markdown",
   "metadata": {},
   "source": [
    "# Parameters"
   ]
  },
  {
   "cell_type": "code",
   "execution_count": null,
   "metadata": {},
   "outputs": [],
   "source": [
    "from json import load\n",
    "\n",
    "runDir = Path('laplace3d_ablockjacobi_cg/')\n",
    "with (runDir / 'setup.json').open('r') as setupF: \n",
    "    params = load(setupF)"
   ]
  },
  {
   "cell_type": "markdown",
   "metadata": {},
   "source": [
    "# Command"
   ]
  },
  {
   "cell_type": "code",
   "execution_count": 10,
   "metadata": {},
   "outputs": [
    {
     "data": {
      "text/plain": [
       "'sbatch --job-name=laplace3d_jacobi --nodes=1 --ntasks-per-node=1 --cpus-per-task=256 --time=00:01:00 --mail-user=teodor.nikolov22@gmail.com --mail-type=FAIL --error=laplace3d_jacobi.err --output=laplace3d_jacobi.out --wrap=\"srun /laplace3d_jacobi \"'"
      ]
     },
     "execution_count": 10,
     "metadata": {},
     "output_type": "execute_result"
    }
   ],
   "source": [
    "job = ('sbatch '\n",
    "       '--job-name={executable} '\n",
    "       '--nodes={nodes} '\n",
    "       '--ntasks-per-node={procs} '\n",
    "       '--cpus-per-task={threads} '\n",
    "       '--time={timeout} '\n",
    "       '--mail-user=teodor.nikolov22@gmail.com '\n",
    "       '--mail-type=FAIL '\n",
    "       '--error={executable}.err '\n",
    "       '--output={executable}.out '\n",
    "       '--wrap=\\\"srun {execDir}/{executable}\\\"').format(\n",
    "    executable=params['Executable name'],\n",
    "    execDir=params['Executable path'],\n",
    "    procs=params['Processes per node'],\n",
    "    nodes=params['Nodes'],\n",
    "    threads=params['Threads per process'],\n",
    "    timeout='{:0>2d}:{:0>2d}:00'.format(params['Timeout [min]'] // 60, \n",
    "                                        params['Timeout [min]'] % 60)\n",
    ")\n",
    "job"
   ]
  },
  {
   "cell_type": "markdown",
   "metadata": {},
   "source": [
    "# Submit"
   ]
  },
  {
   "cell_type": "code",
   "execution_count": 16,
   "metadata": {
    "collapsed": true
   },
   "outputs": [
    {
     "name": "stdout",
     "output_type": "stream",
     "text": [
      "('sbatch --job-name=laplace_jacobi --nodes=1 --ntasks-per-node=1 '\n",
      " '--cpus-per-task=256 --time=00:04:00 --mail-user=teodor.nikolov22@gmail.com '\n",
      " '--mail-type=FAIL --error=laplace_jacobi.err --output=laplace_jacobi.out '\n",
      " '--wrap=\"srun '\n",
      " '/gpfs/homeb/zam/tnikolov/asynchronator/build/example/laplace_jacobi \"')\n",
      "{'Device': 'julia',\n",
      " 'Domain partitions': [[0, 120], [0, 120], [0, 120]],\n",
      " 'Nodes': 1,\n",
      " 'Procs': 1,\n",
      " 'Procs grid': [1, 1, 1],\n",
      " 'Procs per node': 1,\n",
      " 'Steps': 20,\n",
      " 'Threads per proc': 256,\n",
      " 'Timeout [min]': 4,\n",
      " 'Timestamp': '2018-02-15 22:01:57',\n",
      " 'Tolerance': 0.0001}\n"
     ]
    }
   ],
   "source": [
    "from subprocess import run\n",
    "\n",
    "run(job, cwd=runDir, shell=True)"
   ]
  }
 ],
 "metadata": {
  "kernelspec": {
   "display_name": "Python 3",
   "language": "python",
   "name": "python3"
  },
  "language_info": {
   "codemirror_mode": {
    "name": "ipython",
    "version": 3
   },
   "file_extension": ".py",
   "mimetype": "text/x-python",
   "name": "python",
   "nbconvert_exporter": "python",
   "pygments_lexer": "ipython3",
   "version": "3.6.4"
  }
 },
 "nbformat": 4,
 "nbformat_minor": 2
}
