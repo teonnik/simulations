{
 "cells": [
  {
   "cell_type": "code",
   "execution_count": 2,
   "metadata": {},
   "outputs": [
    {
     "name": "stdout",
     "output_type": "stream",
     "text": [
      "The autoreload extension is already loaded. To reload it, use:\n",
      "  %reload_ext autoreload\n"
     ]
    }
   ],
   "source": [
    "%load_ext autoreload\n",
    "%autoreload 2\n",
    "%matplotlib inline\n",
    "%config InlineBackend.figure_format = 'svg'\n",
    "\n",
    "from pathlib import Path\n",
    "from json import dump, load\n",
    "from pprint import pprint\n",
    "from datetime import datetime\n",
    "from operator import mul\n",
    "from functools import reduce"
   ]
  },
  {
   "cell_type": "markdown",
   "metadata": {},
   "source": [
    "# Modules"
   ]
  },
  {
   "cell_type": "code",
   "execution_count": 1,
   "metadata": {},
   "outputs": [
    {
     "name": "stdout",
     "output_type": "stream",
     "text": [
      "/bin/sh: module: command not found\n",
      "\n"
     ]
    }
   ],
   "source": [
    "from subprocess import PIPE, run, STDOUT\n",
    "from os import environ\n",
    "\n",
    "#environ['TOMA'] = 'BBBBB'\n",
    "print(run('module list', stdout=PIPE, stderr=STDOUT, shell=True).stdout.decode('utf-8'))"
   ]
  },
  {
   "cell_type": "markdown",
   "metadata": {},
   "source": [
    "# Setup & Run "
   ]
  },
  {
   "cell_type": "markdown",
   "metadata": {},
   "source": [
    "## Linear system"
   ]
  },
  {
   "cell_type": "code",
   "execution_count": 47,
   "metadata": {},
   "outputs": [
    {
     "ename": "SyntaxError",
     "evalue": "invalid syntax (<ipython-input-47-6277fbe4e84c>, line 11)",
     "output_type": "error",
     "traceback": [
      "\u001b[0;36m  File \u001b[0;32m\"<ipython-input-47-6277fbe4e84c>\"\u001b[0;36m, line \u001b[0;32m11\u001b[0m\n\u001b[0;31m    'Max iterations':,\u001b[0m\n\u001b[0m                     ^\u001b[0m\n\u001b[0;31mSyntaxError\u001b[0m\u001b[0;31m:\u001b[0m invalid syntax\n"
     ]
    }
   ],
   "source": [
    "params = {\n",
    "    'Linear system': {\n",
    "        'Name': 'laplace',\n",
    "        'Domain partitions': [[0, 120], [0, 120], [0, 120]],\n",
    "        'Initial guess': 'zero',\n",
    "        'Exact solution': 'white-noise sine'\n",
    "    },\n",
    "    'Solver': { # nested solver\n",
    "        'Name': '',\n",
    "        'Steps': '',\n",
    "        'Max iterations':,\n",
    "        'Tolerance': '',\n",
    "        'Timeout [min]':'',\n",
    "        'Solver': {\n",
    "            # other parameters\n",
    "            # ....\n",
    "        }   \n",
    "    }\n",
    "    'Results': {\n",
    "        \n",
    "    }\n",
    "}\n",
    "params['Device'] = 'julia'\n",
    "params['Executable path'] = Path('/gpfs/homeb/zam/tnikolov/asynchronator/build/example/')\n",
    "params['Processes grid'] = [len(x) - 1 for x in params['Domain partitions']]\n",
    "params['Processes per node'] = 1\n",
    "params['Threads per process'] = 256\n",
    "params['Nodes'] = reduce(mul, params['Processes grid'], 1)\n",
    "params['Timestamp'] = datetime.now().strftime(\"%Y-%m-%d %H:%M\")\n",
    "\n",
    "params"
   ]
  },
  {
   "cell_type": "markdown",
   "metadata": {},
   "source": [
    "## Solver"
   ]
  },
  {
   "cell_type": "markdown",
   "metadata": {},
   "source": [
    "### Jacobi"
   ]
  },
  {
   "cell_type": "code",
   "execution_count": 43,
   "metadata": {},
   "outputs": [
    {
     "data": {
      "text/plain": [
       "{'Domain partitions': [[0, 120], [0, 120], [0, 120]],\n",
       " 'Exact solution': 'white-noise sine',\n",
       " 'Initial guess': 'zero',\n",
       " 'Operator': 'laplace',\n",
       " 'Solver name': 'jacobi',\n",
       " 'Steps': 10,\n",
       " 'Timeout [min]': 4,\n",
       " 'Tolerance': 0.0001}"
      ]
     },
     "execution_count": 43,
     "metadata": {},
     "output_type": "execute_result"
    }
   ],
   "source": [
    "params['Solver'] = 'jacobi'\n",
    "params['Timeout [min]'] = 4\n",
    "params['Tolerance'] = 1e-04\n",
    "params['Steps'] = 10\n",
    "params"
   ]
  },
  {
   "cell_type": "markdown",
   "metadata": {},
   "source": [
    "### FCG Jacobi "
   ]
  },
  {
   "cell_type": "code",
   "execution_count": 46,
   "metadata": {},
   "outputs": [
    {
     "name": "stdout",
     "output_type": "stream",
     "text": [
      "{'Domain partitions': [[0, 120], [0, 120], [0, 120]],\n",
      " 'Exact solution': 'white-noise sine',\n",
      " 'Initial guess': 'zero',\n",
      " 'Operator': 'laplace',\n",
      " 'Preconditioner': {'Max iterations': 10,\n",
      "                    'Steps': 10,\n",
      "                    'Timeout [min]': 4,\n",
      "                    'Tolerance': 0.0001},\n",
      " 'Solver': 'fcg_jacobi',\n",
      " 'Solver name': 'jacobi',\n",
      " 'Steps': 10,\n",
      " 'Timeout [min]': 4,\n",
      " 'Tolerance': 0.0001,\n",
      " 'Truncation': 10}\n"
     ]
    }
   ],
   "source": [
    "params['Solver'] = 'fcg_jacobi'\n",
    "params['Preconditioner'] = {\n",
    "    'Steps' : 10,\n",
    "    'Max iterations' : 10,\n",
    "    'Timeout [min]' : 4,\n",
    "    'Tolerance' : 1e-04,\n",
    "}\n",
    "params['Steps'] = 10\n",
    "params['Max iterations'] = 10\n",
    "params['Timeout [min]'] = 4\n",
    "params['Tolerance'] = 1e-04\n",
    "\n",
    "params['Truncation'] = 10\n",
    "pprint(params)"
   ]
  },
  {
   "cell_type": "markdown",
   "metadata": {},
   "source": [
    "### Block-Jacobi"
   ]
  },
  {
   "cell_type": "code",
   "execution_count": 27,
   "metadata": {},
   "outputs": [
    {
     "data": {
      "text/plain": [
       "{'Domain partitions': [[0, 120], [0, 120], [0, 120]],\n",
       " 'Executable name': 'laplace_blockjacobi',\n",
       " 'Inner steps': 1,\n",
       " 'Inner timeout [min]': 0.1,\n",
       " 'Inner tolerance': 0.1,\n",
       " 'Outer steps': 5,\n",
       " 'Outer timeout [min]': 4,\n",
       " 'Outer tolerance': 0.0001}"
      ]
     },
     "execution_count": 27,
     "metadata": {},
     "output_type": "execute_result"
    }
   ],
   "source": [
    "params['Solver'] = 'blockjacobi'\n",
    "params['Inner steps'] = 1\n",
    "params['Inner tolerance'] = 0.1\n",
    "params['Inner timeout [min]'] = 0.1\n",
    "params['Outer steps'] = 5\n",
    "params['Outer tolerance'] = 1e-04\n",
    "params['Outer timeout [min]'] = 4\n",
    "params"
   ]
  },
  {
   "cell_type": "markdown",
   "metadata": {},
   "source": [
    "### FCG Block-Jacobi"
   ]
  },
  {
   "cell_type": "code",
   "execution_count": null,
   "metadata": {
    "collapsed": true
   },
   "outputs": [],
   "source": [
    "params['Solver'] = 'fcg_blockjacobi'\n",
    "params['Preconditioner inner steps'] = 1\n",
    "params['Preconditioner inner tolerance'] = \n",
    "params['Preconditioner inner timeout [min]'] = \n",
    "params['Preconditioner outer steps'] = 10\n",
    "params['Preconditioner timeout [min]'] = 0.1\n",
    "params['Preconditioner tolerance'] = 0.1\n",
    "params['Steps']: 10\n",
    "params['Timeout [min]']: 4\n",
    "params['Tolerance']: 1e-04\n",
    "params['Truncation']: 10\n",
    "params"
   ]
  },
  {
   "cell_type": "markdown",
   "metadata": {},
   "source": [
    "### Asynchronous Jacobi"
   ]
  },
  {
   "cell_type": "code",
   "execution_count": 44,
   "metadata": {},
   "outputs": [
    {
     "data": {
      "text/plain": [
       "{'Domain partitions': [[0, 120], [0, 120], [0, 120]],\n",
       " 'Exact solution': 'white-noise sine',\n",
       " 'Initial guess': 'zero',\n",
       " 'Operator': 'laplace',\n",
       " 'Solver': 'ajacobi',\n",
       " 'Solver name': 'jacobi',\n",
       " 'Steps': 10,\n",
       " 'Timeout [min]': 4,\n",
       " 'Tolerance': 0.0001}"
      ]
     },
     "execution_count": 44,
     "metadata": {},
     "output_type": "execute_result"
    }
   ],
   "source": [
    "params['Solver'] = 'ajacobi'\n",
    "params['Timeout [min]'] = 4\n",
    "params['Tolerance'] = 1e-04\n",
    "params"
   ]
  },
  {
   "cell_type": "markdown",
   "metadata": {},
   "source": [
    "## parameters JULIA "
   ]
  },
  {
   "cell_type": "code",
   "execution_count": 21,
   "metadata": {
    "scrolled": true
   },
   "outputs": [
    {
     "data": {
      "text/plain": [
       "{'Device': 'JULIA',\n",
       " 'Domain partitions': [[0, 120], [0, 120], [0, 120]],\n",
       " 'Executable name': 'laplace_jacobi',\n",
       " 'Executable path': PosixPath('/gpfs/homeb/zam/tnikolov/asynchronator/build/example'),\n",
       " 'Nodes': 1,\n",
       " 'Processes grid': [1, 1, 1],\n",
       " 'Processes per node': 1,\n",
       " 'Steps': 20,\n",
       " 'Threads per process': 256,\n",
       " 'Timeout [min]': 4,\n",
       " 'Timestamp': '2018-04-04 14:48:33',\n",
       " 'Tolerance': 0.0001}"
      ]
     },
     "execution_count": 21,
     "metadata": {},
     "output_type": "execute_result"
    }
   ],
   "source": [
    "\n",
    "params"
   ]
  },
  {
   "cell_type": "markdown",
   "metadata": {},
   "source": [
    "## sbatch job"
   ]
  },
  {
   "cell_type": "code",
   "execution_count": 23,
   "metadata": {},
   "outputs": [
    {
     "name": "stdout",
     "output_type": "stream",
     "text": [
      "('sbatch --job-name=laplace_jacobi --nodes=1 --ntasks-per-node=1 '\n",
      " '--cpus-per-task=256 --time=00:04:00 --mail-user=teodor.nikolov22@gmail.com '\n",
      " '--mail-type=FAIL --error=laplace_jacobi.err --output=laplace_jacobi.out '\n",
      " '--wrap=\"srun '\n",
      " '/gpfs/homeb/zam/tnikolov/asynchronator/build/example/laplace_jacobi \"')\n"
     ]
    }
   ],
   "source": [
    "job = ('sbatch '\n",
    "       '--job-name={executable} '\n",
    "       '--nodes={nodes} '\n",
    "       '--ntasks-per-node={procs} '\n",
    "       '--cpus-per-task={threads} '\n",
    "       '--time={timeout} '\n",
    "       '--mail-user=teodor.nikolov22@gmail.com '\n",
    "       '--mail-type=FAIL '\n",
    "       '--error={executable}.err '\n",
    "       '--output={executable}.out '\n",
    "       '--wrap=\\\"srun {execDir}/{executable} \\\"').format(\n",
    "    executable=params['Executable name'],\n",
    "    execDir=params['Executable path'],\n",
    "    procs=params['Processes per node'],\n",
    "    nodes=params['Nodes'],\n",
    "    threads=params['Threads per process'],\n",
    "    timeout='{:0>2d}:{:0>2d}:00'.format(params['Timeout [min]'] // 60, \n",
    "                                        params['Timeout [min]'] % 60)\n",
    ")\n",
    "pprint(job)"
   ]
  },
  {
   "cell_type": "markdown",
   "metadata": {},
   "source": [
    "## submit job"
   ]
  },
  {
   "cell_type": "code",
   "execution_count": 16,
   "metadata": {},
   "outputs": [
    {
     "name": "stdout",
     "output_type": "stream",
     "text": [
      "('sbatch --job-name=laplace_jacobi --nodes=1 --ntasks-per-node=1 '\n",
      " '--cpus-per-task=256 --time=00:04:00 --mail-user=teodor.nikolov22@gmail.com '\n",
      " '--mail-type=FAIL --error=laplace_jacobi.err --output=laplace_jacobi.out '\n",
      " '--wrap=\"srun '\n",
      " '/gpfs/homeb/zam/tnikolov/asynchronator/build/example/laplace_jacobi \"')\n",
      "{'Device': 'julia',\n",
      " 'Domain partitions': [[0, 120], [0, 120], [0, 120]],\n",
      " 'Nodes': 1,\n",
      " 'Procs': 1,\n",
      " 'Procs grid': [1, 1, 1],\n",
      " 'Procs per node': 1,\n",
      " 'Steps': 20,\n",
      " 'Threads per proc': 256,\n",
      " 'Timeout [min]': 4,\n",
      " 'Timestamp': '2018-02-15 22:01:57',\n",
      " 'Tolerance': 0.0001}\n"
     ]
    }
   ],
   "source": [
    "date = datetime.now()\n",
    "runDir = Path.cwd() / '{}-{}-{}'.format(execPath.name, \n",
    "                                        date.strftime(\"%Hhh%Mmm%Sss\"), \n",
    "                                        date.strftime(\"%ddd%mmm%yyy\"))\n",
    "runDir.mkdir(exist_ok=False)\n",
    "with (runDir / '{}.json'.format(execPath.name)).open('w') as setupF: dump(params, setupF)\n",
    "run(job, cwd=runDir, shell=True)"
   ]
  }
 ],
 "metadata": {
  "kernelspec": {
   "display_name": "Python 3",
   "language": "python",
   "name": "python3"
  },
  "language_info": {
   "codemirror_mode": {
    "name": "ipython",
    "version": 3
   },
   "file_extension": ".py",
   "mimetype": "text/x-python",
   "name": "python",
   "nbconvert_exporter": "python",
   "pygments_lexer": "ipython3",
   "version": "3.6.4"
  }
 },
 "nbformat": 4,
 "nbformat_minor": 2
}
