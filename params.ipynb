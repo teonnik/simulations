{
 "cells": [
  {
   "cell_type": "markdown",
   "metadata": {},
   "source": [
    "## Define parameters"
   ]
  },
  {
   "cell_type": "code",
   "execution_count": 5,
   "metadata": {},
   "outputs": [
    {
     "data": {
      "text/plain": [
       "{'Device': 'julia',\n",
       " 'Domain partitions': [[0, 50], [0, 50], [0, 50]],\n",
       " 'Exact solution': 'white-noise sine',\n",
       " 'Executable name': 'laplace3d_jacobi',\n",
       " 'Executable path': '/home/teonnik/code/asynchronator/build/example/',\n",
       " 'Initial guess': 'zero',\n",
       " 'Iterant': 'jacobi',\n",
       " 'Matrix': 'laplace3d',\n",
       " 'Max iterations': 100000,\n",
       " 'Nodes': 1,\n",
       " 'Processes grid': [1, 1, 1],\n",
       " 'Processes per node': 1,\n",
       " 'Steps': 10,\n",
       " 'Threads per process': 256,\n",
       " 'Timeout [min]': 1,\n",
       " 'Timestamp': '2018-04-16 14:02',\n",
       " 'Tolerance': 0.01}"
      ]
     },
     "execution_count": 5,
     "metadata": {},
     "output_type": "execute_result"
    }
   ],
   "source": [
    "from operator import mul\n",
    "from functools import reduce\n",
    "from datetime import datetime\n",
    "\n",
    "params = {\n",
    "    # Executable\n",
    "   'Executable path': '/home/teonnik/code/asynchronator/build/example/',\n",
    "   'Executable name': 'laplace3d_jacobi',\n",
    "    \n",
    "    # Linear system\n",
    "   'Matrix': 'laplace3d',\n",
    "   'Domain partitions': [[0, 50],[0, 50],[0, 50]],\n",
    "   'Initial guess': 'zero',\n",
    "   'Exact solution': 'white-noise sine',\n",
    "\n",
    "    # Solver\n",
    "   'Iterant': 'jacobi',\n",
    "   'Steps': 10,\n",
    "   'Max iterations': 100000,\n",
    "   \"Tolerance\": 0.01,\n",
    "   \"Timeout [min]\": 1    \n",
    "}\n",
    "\n",
    "# Device\n",
    "params['Device'] = 'julia'\n",
    "params['Processes per node'] = 1\n",
    "params['Threads per process'] = 256\n",
    "params['Timestamp'] = datetime.now().strftime(\"%Y-%m-%d %H:%M\")\n",
    "params['Processes grid'] = [len(x) - 1 for x in params['Domain partitions']]\n",
    "params['Nodes'] = reduce(mul, params['Processes grid'], 1)\n",
    "\n",
    "\n",
    "params"
   ]
  },
  {
   "cell_type": "markdown",
   "metadata": {},
   "source": [
    "## Write parameters"
   ]
  },
  {
   "cell_type": "code",
   "execution_count": null,
   "metadata": {},
   "outputs": [],
   "source": [
    "from pathlib import Path\n",
    "from json import dump\n",
    "from datetime import datetime\n",
    "\n",
    "# Create a run directory\n",
    "runDir = '{}_{}'.format(params['Executable name'], \n",
    "                        datetime.now().strftime(\"%Y-%m-%d_%H-%M-%S\")) \n",
    "runDir.mkdir(exist_ok=False)\n",
    "\n",
    "# Write setup file\n",
    "with (runDir / 'setup.json').open('w') as setupF: \n",
    "    dump(params, setupF)"
   ]
  }
 ],
 "metadata": {
  "kernelspec": {
   "display_name": "Python 3",
   "language": "python",
   "name": "python3"
  },
  "language_info": {
   "codemirror_mode": {
    "name": "ipython",
    "version": 3
   },
   "file_extension": ".py",
   "mimetype": "text/x-python",
   "name": "python",
   "nbconvert_exporter": "python",
   "pygments_lexer": "ipython3",
   "version": "3.6.4"
  }
 },
 "nbformat": 4,
 "nbformat_minor": 2
}
