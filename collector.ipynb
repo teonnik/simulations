{
 "cells": [
  {
   "cell_type": "markdown",
   "metadata": {},
   "source": [
    "# Collect "
   ]
  },
  {
   "cell_type": "code",
   "execution_count": 4,
   "metadata": {},
   "outputs": [],
   "source": [
    "from pathlib import Path\n",
    "from json import load\n",
    "\n",
    "# Input\n",
    "simulationPath = Path('laplace3d_jacobi_2018-04-16_14-22-58')\n",
    "\n",
    "# Read files into dictionary\n",
    "data = []\n",
    "for recPath in simulationPath.glob('*.json'):\n",
    "    if recPath.name == 'setup.json':\n",
    "        continue\n",
    "    with recPath.open('r') as recF: \n",
    "        data.append(load(recF))"
   ]
  },
  {
   "cell_type": "markdown",
   "metadata": {},
   "source": [
    "# Table"
   ]
  },
  {
   "cell_type": "code",
   "execution_count": 5,
   "metadata": {},
   "outputs": [
    {
     "data": {
      "text/html": [
       "<div>\n",
       "<style scoped>\n",
       "    .dataframe tbody tr th:only-of-type {\n",
       "        vertical-align: middle;\n",
       "    }\n",
       "\n",
       "    .dataframe tbody tr th {\n",
       "        vertical-align: top;\n",
       "    }\n",
       "\n",
       "    .dataframe thead th {\n",
       "        text-align: right;\n",
       "    }\n",
       "</style>\n",
       "<table border=\"1\" class=\"dataframe\">\n",
       "  <thead>\n",
       "    <tr style=\"text-align: right;\">\n",
       "      <th></th>\n",
       "      <th>CV sample times [s]</th>\n",
       "      <th>CV samples</th>\n",
       "      <th>Device</th>\n",
       "      <th>Domain partitions</th>\n",
       "      <th>Exact solution</th>\n",
       "      <th>Executable name</th>\n",
       "      <th>Executable path</th>\n",
       "      <th>Initial guess</th>\n",
       "      <th>Iterant</th>\n",
       "      <th>Matrix</th>\n",
       "      <th>...</th>\n",
       "      <th>Processes grid</th>\n",
       "      <th>Processes per node</th>\n",
       "      <th>Rank</th>\n",
       "      <th>Relative error</th>\n",
       "      <th>Relative residual</th>\n",
       "      <th>Steps</th>\n",
       "      <th>Threads per process</th>\n",
       "      <th>Timeout [min]</th>\n",
       "      <th>Timestamp</th>\n",
       "      <th>Tolerance</th>\n",
       "    </tr>\n",
       "  </thead>\n",
       "  <tbody>\n",
       "    <tr>\n",
       "      <th>0</th>\n",
       "      <td>[0.0, 1.394e-06, 0.000980947, 0.001875147, 0.0...</td>\n",
       "      <td>[1.0, 1.0, 1.0, 1.0, 1.0, 1.0, 1.0, 1.0, 1.0, ...</td>\n",
       "      <td>julia</td>\n",
       "      <td>[[0, 25, 50], [0, 50], [0, 50]]</td>\n",
       "      <td>white-noise sine</td>\n",
       "      <td>laplace3d_jacobi</td>\n",
       "      <td>/home/teonnik/code/asynchronator/build/example</td>\n",
       "      <td>zero</td>\n",
       "      <td>jacobi</td>\n",
       "      <td>laplace3d</td>\n",
       "      <td>...</td>\n",
       "      <td>[1, 1, 1]</td>\n",
       "      <td>1</td>\n",
       "      <td>1</td>\n",
       "      <td>0.009891</td>\n",
       "      <td>0.000419</td>\n",
       "      <td>10</td>\n",
       "      <td>256</td>\n",
       "      <td>1</td>\n",
       "      <td>2018-04-16 14:22</td>\n",
       "      <td>0.01</td>\n",
       "    </tr>\n",
       "    <tr>\n",
       "      <th>1</th>\n",
       "      <td>[0.0, 1.346e-06, 0.000980891, 0.001874086, 0.0...</td>\n",
       "      <td>[1.0, 1.0, 1.0, 1.0, 1.0, 1.0, 1.0, 1.0, 1.0, ...</td>\n",
       "      <td>julia</td>\n",
       "      <td>[[0, 25, 50], [0, 50], [0, 50]]</td>\n",
       "      <td>white-noise sine</td>\n",
       "      <td>laplace3d_jacobi</td>\n",
       "      <td>/home/teonnik/code/asynchronator/build/example</td>\n",
       "      <td>zero</td>\n",
       "      <td>jacobi</td>\n",
       "      <td>laplace3d</td>\n",
       "      <td>...</td>\n",
       "      <td>[1, 1, 1]</td>\n",
       "      <td>1</td>\n",
       "      <td>0</td>\n",
       "      <td>0.009891</td>\n",
       "      <td>0.000419</td>\n",
       "      <td>10</td>\n",
       "      <td>256</td>\n",
       "      <td>1</td>\n",
       "      <td>2018-04-16 14:22</td>\n",
       "      <td>0.01</td>\n",
       "    </tr>\n",
       "  </tbody>\n",
       "</table>\n",
       "<p>2 rows × 22 columns</p>\n",
       "</div>"
      ],
      "text/plain": [
       "                                 CV sample times [s]  \\\n",
       "0  [0.0, 1.394e-06, 0.000980947, 0.001875147, 0.0...   \n",
       "1  [0.0, 1.346e-06, 0.000980891, 0.001874086, 0.0...   \n",
       "\n",
       "                                          CV samples Device  \\\n",
       "0  [1.0, 1.0, 1.0, 1.0, 1.0, 1.0, 1.0, 1.0, 1.0, ...  julia   \n",
       "1  [1.0, 1.0, 1.0, 1.0, 1.0, 1.0, 1.0, 1.0, 1.0, ...  julia   \n",
       "\n",
       "                 Domain partitions    Exact solution   Executable name  \\\n",
       "0  [[0, 25, 50], [0, 50], [0, 50]]  white-noise sine  laplace3d_jacobi   \n",
       "1  [[0, 25, 50], [0, 50], [0, 50]]  white-noise sine  laplace3d_jacobi   \n",
       "\n",
       "                                  Executable path Initial guess Iterant  \\\n",
       "0  /home/teonnik/code/asynchronator/build/example          zero  jacobi   \n",
       "1  /home/teonnik/code/asynchronator/build/example          zero  jacobi   \n",
       "\n",
       "      Matrix    ...      Processes grid  Processes per node Rank  \\\n",
       "0  laplace3d    ...           [1, 1, 1]                   1    1   \n",
       "1  laplace3d    ...           [1, 1, 1]                   1    0   \n",
       "\n",
       "   Relative error  Relative residual  Steps  Threads per process  \\\n",
       "0        0.009891           0.000419     10                  256   \n",
       "1        0.009891           0.000419     10                  256   \n",
       "\n",
       "   Timeout [min]         Timestamp  Tolerance  \n",
       "0              1  2018-04-16 14:22       0.01  \n",
       "1              1  2018-04-16 14:22       0.01  \n",
       "\n",
       "[2 rows x 22 columns]"
      ]
     },
     "execution_count": 5,
     "metadata": {},
     "output_type": "execute_result"
    }
   ],
   "source": [
    "import pandas as pd\n",
    "\n",
    "df = pd.DataFrame(data)\n",
    "\n",
    "df"
   ]
  },
  {
   "cell_type": "markdown",
   "metadata": {},
   "source": [
    "# Save"
   ]
  },
  {
   "cell_type": "code",
   "execution_count": 6,
   "metadata": {},
   "outputs": [],
   "source": [
    "df.to_csv('{}.csv'.format(simulationPath.name))"
   ]
  }
 ],
 "metadata": {
  "kernelspec": {
   "display_name": "Python 3",
   "language": "python",
   "name": "python3"
  },
  "language_info": {
   "codemirror_mode": {
    "name": "ipython",
    "version": 3
   },
   "file_extension": ".py",
   "mimetype": "text/x-python",
   "name": "python",
   "nbconvert_exporter": "python",
   "pygments_lexer": "ipython3",
   "version": "3.6.4"
  }
 },
 "nbformat": 4,
 "nbformat_minor": 2
}
